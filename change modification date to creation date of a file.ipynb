{
 "cells": [
  {
   "cell_type": "code",
   "execution_count": 1,
   "id": "4333e19c-9bde-4b1e-999d-fdbda048a80c",
   "metadata": {},
   "outputs": [],
   "source": [
    "import os\n",
    "import os\n",
    "import time\n",
    "from PIL import Image\n",
    "import datetime \n",
    "from datetime import timedelta"
   ]
  },
  {
   "cell_type": "code",
   "execution_count": 2,
   "id": "42f6080f-d8ff-4c6b-9a3d-cffb108eb9ce",
   "metadata": {},
   "outputs": [],
   "source": [
    "# os.listdir(\"2021\") "
   ]
  },
  {
   "cell_type": "code",
   "execution_count": 12,
   "id": "25655133-7b9c-4942-8e41-0e1dacfc8bd6",
   "metadata": {},
   "outputs": [],
   "source": [
    "def get_date_taken(path):\n",
    "    if Image.open(path)._getexif()==None:\n",
    "        return None\n",
    "    return Image.open(path)._getexif()[36867]\n",
    "def get_epoch_time(time): #'2021:09:15 21:05:46'\n",
    "    epoch_time = datetime.datetime.strptime(time,\"%Y:%m:%d %H:%M:%S\").strftime('%s')\n",
    "    return float(epoch_time)\n",
    "not_modified = []\n",
    "for path in os.listdir(\"2021\"):\n",
    "    path = \"./2021/\"+path\n",
    "    try:\n",
    "        creation_time = get_date_taken(path)\n",
    "        epoch_time = get_epoch_time(creation_time)\n",
    "        os.utime(path, (epoch_time, epoch_time))\n",
    "    except:\n",
    "        not_modified.append(path)\n"
   ]
  },
  {
   "cell_type": "code",
   "execution_count": 13,
   "id": "3751bf6b-49b4-488f-84dc-ce70111be9df",
   "metadata": {},
   "outputs": [
    {
     "name": "stdout",
     "output_type": "stream",
     "text": [
      "611 483\n"
     ]
    }
   ],
   "source": [
    "print(len(os.listdir(\"2021\")),len(not_modified))"
   ]
  },
  {
   "cell_type": "code",
   "execution_count": 14,
   "id": "9aa391d8-6984-4052-96cf-ae1cf6d70011",
   "metadata": {},
   "outputs": [],
   "source": [
    "import re\n",
    "not_not_modified=[]#20210929\n",
    "for path in not_modified:\n",
    "    if re.match(r\"./2021/VID.*mp4\", path) or re.match(r\"./2021/IMG.*jpg\", path):\n",
    "        year = path[11:15]\n",
    "        month = path[15:17]\n",
    "        day = path[17:19]\n",
    "        epoch_time = get_epoch_time(year+\":\"+month+\":\"+day+\" 01:01:00\")\n",
    "        os.utime(path, (epoch_time, epoch_time))\n",
    "    else:\n",
    "        not_not_modified.append(path)"
   ]
  },
  {
   "cell_type": "code",
   "execution_count": null,
   "id": "c4df4097-acab-4ed4-8cb8-451bac525bb8",
   "metadata": {},
   "outputs": [],
   "source": [
    "not_not_modified"
   ]
  },
  {
   "cell_type": "code",
   "execution_count": null,
   "id": "12d85e29-06c3-4b77-aa54-ce386159f03c",
   "metadata": {},
   "outputs": [],
   "source": [
    "#make a zip and extract in mobile "
   ]
  }
 ],
 "metadata": {
  "kernelspec": {
   "display_name": "Python 3 (ipykernel)",
   "language": "python",
   "name": "python3"
  },
  "language_info": {
   "codemirror_mode": {
    "name": "ipython",
    "version": 3
   },
   "file_extension": ".py",
   "mimetype": "text/x-python",
   "name": "python",
   "nbconvert_exporter": "python",
   "pygments_lexer": "ipython3",
   "version": "3.7.11"
  }
 },
 "nbformat": 4,
 "nbformat_minor": 5
}
